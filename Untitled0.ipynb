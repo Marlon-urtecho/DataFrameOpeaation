{
  "nbformat": 4,
  "nbformat_minor": 0,
  "metadata": {
    "colab": {
      "provenance": [],
      "toc_visible": true,
      "authorship_tag": "ABX9TyOUsvI4cEwTF0gkpgocz+B5",
      "include_colab_link": true
    },
    "kernelspec": {
      "name": "python3",
      "display_name": "Python 3"
    },
    "language_info": {
      "name": "python"
    }
  },
  "cells": [
    {
      "cell_type": "markdown",
      "metadata": {
        "id": "view-in-github",
        "colab_type": "text"
      },
      "source": [
        "<a href=\"https://colab.research.google.com/github/Marlon-urtecho/DataFrameOpeaation/blob/main/Untitled0.ipynb\" target=\"_parent\"><img src=\"https://colab.research.google.com/assets/colab-badge.svg\" alt=\"Open In Colab\"/></a>"
      ]
    },
    {
      "cell_type": "markdown",
      "source": [
        "Crear un conjunto de datos\n"
      ],
      "metadata": {
        "id": "Me5vPjqQI7KK"
      }
    },
    {
      "cell_type": "code",
      "source": [
        "import numpy as np\n",
        "import pandas as pd\n"
      ],
      "metadata": {
        "id": "hp7V7IRjIpGZ"
      },
      "execution_count": 2,
      "outputs": []
    },
    {
      "cell_type": "code",
      "source": [
        "#Crear un conjunto de datos a partir de valores alentorios\n",
        "data = np.random.randint(1,5, size=(5,3))\n",
        "print(data)"
      ],
      "metadata": {
        "colab": {
          "base_uri": "https://localhost:8080/"
        },
        "id": "0IBHC992JBMT",
        "outputId": "1aba0ef1-32db-4e68-93d3-14cf43fec14c"
      },
      "execution_count": 3,
      "outputs": [
        {
          "output_type": "stream",
          "name": "stdout",
          "text": [
            "[[4 2 4]\n",
            " [4 2 1]\n",
            " [3 1 3]\n",
            " [1 3 3]\n",
            " [3 4 2]]\n"
          ]
        }
      ]
    },
    {
      "cell_type": "code",
      "source": [
        "#crear un dataFrame a partir de los dato de varible data\n",
        "pd = pd.DataFrame(data, columns=['A', 'B', 'C'])\n",
        "print(pd)"
      ],
      "metadata": {
        "colab": {
          "base_uri": "https://localhost:8080/"
        },
        "id": "6bvXnD1JKsFi",
        "outputId": "afb95726-6e21-47b6-e043-68874fe518b5"
      },
      "execution_count": 4,
      "outputs": [
        {
          "output_type": "stream",
          "name": "stdout",
          "text": [
            "   A  B  C\n",
            "0  4  2  4\n",
            "1  4  2  1\n",
            "2  3  1  3\n",
            "3  1  3  3\n",
            "4  3  4  2\n"
          ]
        }
      ]
    },
    {
      "cell_type": "code",
      "source": [
        "#mostrar las primeras 2 filas del dataFrame\n",
        "print(pd.head(2))"
      ],
      "metadata": {
        "colab": {
          "base_uri": "https://localhost:8080/"
        },
        "id": "3rQ7bXxOLhb9",
        "outputId": "e27c7ea1-c2f8-4ba5-99f6-03a0b0dbf3c4"
      },
      "execution_count": 5,
      "outputs": [
        {
          "output_type": "stream",
          "name": "stdout",
          "text": [
            "   A  B  C\n",
            "0  4  2  4\n",
            "1  4  2  1\n"
          ]
        }
      ]
    },
    {
      "cell_type": "code",
      "source": [
        "#Presentar Datos estadisticos del data frame\n",
        "print(pd.describe())"
      ],
      "metadata": {
        "colab": {
          "base_uri": "https://localhost:8080/"
        },
        "id": "mwhx2iiBNIdo",
        "outputId": "a2cb2c9b-2199-4945-9f9d-66ccf91ca4e4"
      },
      "execution_count": 6,
      "outputs": [
        {
          "output_type": "stream",
          "name": "stdout",
          "text": [
            "              A         B         C\n",
            "count  5.000000  5.000000  5.000000\n",
            "mean   3.000000  2.400000  2.600000\n",
            "std    1.224745  1.140175  1.140175\n",
            "min    1.000000  1.000000  1.000000\n",
            "25%    3.000000  2.000000  2.000000\n",
            "50%    3.000000  2.000000  3.000000\n",
            "75%    4.000000  3.000000  3.000000\n",
            "max    4.000000  4.000000  4.000000\n"
          ]
        }
      ]
    },
    {
      "cell_type": "code",
      "source": [
        "#creando un columna creada con 'D' del resultado de la suma de 'A' y 'B'\n",
        "pd['D'] = pd['A'] + pd[\"B\"]\n",
        "print(pd)\n"
      ],
      "metadata": {
        "colab": {
          "base_uri": "https://localhost:8080/"
        },
        "id": "6sRYnGfrNeFe",
        "outputId": "267e95a5-faff-4493-e026-f953547583c3"
      },
      "execution_count": 8,
      "outputs": [
        {
          "output_type": "stream",
          "name": "stdout",
          "text": [
            "   A  B  C  D\n",
            "0  4  2  4  6\n",
            "1  4  2  1  6\n",
            "2  3  1  3  4\n",
            "3  1  3  3  4\n",
            "4  3  4  2  7\n"
          ]
        }
      ]
    },
    {
      "cell_type": "code",
      "source": [
        "#Flitar filas donde el valor de la columna 'A' es mayor que 2\n",
        "filtered_data = pd[pd['A'] > 2]\n",
        "print(filtered_data)\n"
      ],
      "metadata": {
        "colab": {
          "base_uri": "https://localhost:8080/"
        },
        "id": "cXcj0yZqOeTk",
        "outputId": "4b414024-d553-4358-c16f-9962f635083f"
      },
      "execution_count": 10,
      "outputs": [
        {
          "output_type": "stream",
          "name": "stdout",
          "text": [
            "   A  B  C  D\n",
            "0  4  2  4  6\n",
            "1  4  2  1  6\n",
            "2  3  1  3  4\n",
            "4  3  4  2  7\n"
          ]
        }
      ]
    },
    {
      "cell_type": "code",
      "source": [
        "#Para el promedio de una columna en esoecifico en este caso para 'A'\n",
        "Average_A = pd['A'].mean()\n",
        "print(Average_A)"
      ],
      "metadata": {
        "colab": {
          "base_uri": "https://localhost:8080/"
        },
        "id": "ozgomuXZRCzG",
        "outputId": "45fa82cb-4138-49bd-8dcf-dbd172bd2763"
      },
      "execution_count": 12,
      "outputs": [
        {
          "output_type": "stream",
          "name": "stdout",
          "text": [
            "2.4\n"
          ]
        }
      ]
    },
    {
      "cell_type": "code",
      "source": [
        "#Para crear un data Frame con datos inicializados\n",
        "import numpy as np\n",
        "import pandas as pd\n",
        "\n",
        "info = {'Name':['Tomas', 'Juan', 'Salvador', 'Roberto'], 'Age':['28', '30', '24', '22'],'city':['Managua', 'Rivas', 'Granada', \"carazo\"]}\n",
        "df = pd.DataFrame(info)\n",
        "print(df)"
      ],
      "metadata": {
        "colab": {
          "base_uri": "https://localhost:8080/"
        },
        "id": "A0iO1TK1SJJB",
        "outputId": "53d10989-72b5-472d-8982-600932f2370e"
      },
      "execution_count": 16,
      "outputs": [
        {
          "output_type": "stream",
          "name": "stdout",
          "text": [
            "       Name Age     city\n",
            "0     Tomas  28  Managua\n",
            "1      Juan  30    Rivas\n",
            "2  Salvador  24  Granada\n",
            "3   Roberto  22   carazo\n"
          ]
        }
      ]
    },
    {
      "cell_type": "markdown",
      "source": [
        "# Nueva sección"
      ],
      "metadata": {
        "id": "jt45pjFsUKit"
      }
    }
  ]
}