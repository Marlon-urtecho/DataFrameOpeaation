{
  "nbformat": 4,
  "nbformat_minor": 0,
  "metadata": {
    "colab": {
      "provenance": [],
      "authorship_tag": "ABX9TyMAeyl1A+C7ebpNZd1F74m9",
      "include_colab_link": true
    },
    "kernelspec": {
      "name": "python3",
      "display_name": "Python 3"
    },
    "language_info": {
      "name": "python"
    }
  },
  "cells": [
    {
      "cell_type": "markdown",
      "metadata": {
        "id": "view-in-github",
        "colab_type": "text"
      },
      "source": [
        "<a href=\"https://colab.research.google.com/github/Marlon-urtecho/DataFrameOpeaation/blob/main/Untitled1.ipynb\" target=\"_parent\"><img src=\"https://colab.research.google.com/assets/colab-badge.svg\" alt=\"Open In Colab\"/></a>"
      ]
    },
    {
      "cell_type": "code",
      "execution_count": 7,
      "metadata": {
        "id": "Fboum5TYZWV-"
      },
      "outputs": [],
      "source": [
        "#importacionde tenserFlow y sus modelo para el manejo de datos\n",
        "#sequential y dense son las clase de keras para contruir el modelo de red neuronal\n",
        "#fecth california_housting cargar los datos\n",
        "\n",
        "import tensorflow as tf\n",
        "from tensorflow.keras.models import Sequential\n",
        "from tensorflow.keras.layers import Dense\n",
        "from sklearn.model_selection import train_test_split\n",
        "from sklearn.datasets import fetch_california_housing\n",
        "from sklearn.preprocessing import StandardScaler\n"
      ]
    },
    {
      "cell_type": "code",
      "source": [
        "#Preparqcion para los datos\n",
        "#cargar los datos: fetch_california_housting() cargo los datos con caracteristicas de vivienda en X y sus valores en y\n",
        "#dicidi los datos: usamos train_test_split para dividir el conjunto de datos de entrenamiento(80%) y prueba(20%)\n",
        "housing = fetch_california_housing()\n",
        "X,y = housing.data, housing.target\n",
        "X_train, X_test, y_train, y_test = train_test_split(X, y , test_size=0.2, random_state=42)"
      ],
      "metadata": {
        "id": "qu8etITZ_zSB"
      },
      "execution_count": 8,
      "outputs": []
    },
    {
      "cell_type": "code",
      "source": [
        "#escalr los atos para mejor rendimiento\n",
        "scaler = StandardScaler()\n",
        "X_traing_scaled = scaler.fit_transform(X_train)\n",
        "X_test_scaled = scaler.transform(X_test)"
      ],
      "metadata": {
        "id": "5kspvrVaEKNT"
      },
      "execution_count": 10,
      "outputs": []
    },
    {
      "cell_type": "code",
      "source": [
        "#Definir modelo de regresion\n",
        "# capda de entrda input\n",
        "#capas ocultas: 2 capas densas de 64 neuronas cada una con acrtivacion relu(Rectified Linar unit )\n",
        "# Cqpa de salida: solo contiene una neurona\n",
        "model = Sequential([\n",
        "    Dense(64, activation='relu', input_shape=(X_train.shape[1],)),\n",
        "    Dense(64, activation='relu'),\n",
        "    Dense(1)\n",
        "])"
      ],
      "metadata": {
        "colab": {
          "base_uri": "https://localhost:8080/"
        },
        "id": "mPWQ0TnLG58s",
        "outputId": "107e6ca1-f976-42a8-95f5-888ac50b9616"
      },
      "execution_count": 15,
      "outputs": [
        {
          "output_type": "stream",
          "name": "stderr",
          "text": [
            "/usr/local/lib/python3.11/dist-packages/keras/src/layers/core/dense.py:87: UserWarning: Do not pass an `input_shape`/`input_dim` argument to a layer. When using Sequential models, prefer using an `Input(shape)` object as the first layer in the model instead.\n",
            "  super().__init__(activity_regularizer=activity_regularizer, **kwargs)\n"
          ]
        }
      ]
    },
    {
      "cell_type": "code",
      "source": [
        "#compilar el modelo\n",
        "#optimizer = 'adam' es una conjunto optimizador eficiante para plobelnmas de regresion\n",
        "#metric = ['mae'] usamos el error absoluto medio(MAE) como metrica para evaluar el modelo\n",
        "model.compile(optimizer='adam', loss='mse', metrics=['mae'])"
      ],
      "metadata": {
        "id": "TV1GZ2GKJT3M"
      },
      "execution_count": 17,
      "outputs": []
    },
    {
      "cell_type": "code",
      "source": [
        "#Entrenar y evaluar el modelo\n",
        "#fit : Entrena el modelo en el conjunto de datos de entrenamiento por 10 epocas, usando el 20 de conjunto de entrenamiento para evaluacion\n",
        "#Evaluate : Evalua el modelo con el conjunto de pruebas y devualve la perdida y el mae , que imprimamos paqra ver el error promedio de las predicciones\n",
        "model.fit(X_train, y_train, epochs=10, validation_split=0.2)\n",
        "loss, mae = model.evaluate(X_test, y_test)\n",
        "print(f\"Mean absulute Error: {mae}\")\n"
      ],
      "metadata": {
        "colab": {
          "base_uri": "https://localhost:8080/"
        },
        "id": "Sotiy76hNbEQ",
        "outputId": "7d16e2a9-b695-4039-c6ad-f079ee6601e0"
      },
      "execution_count": 18,
      "outputs": [
        {
          "output_type": "stream",
          "name": "stdout",
          "text": [
            "Epoch 1/10\n",
            "\u001b[1m413/413\u001b[0m \u001b[32m━━━━━━━━━━━━━━━━━━━━\u001b[0m\u001b[37m\u001b[0m \u001b[1m3s\u001b[0m 3ms/step - loss: 77.6191 - mae: 3.9915 - val_loss: 1.8540 - val_mae: 0.9933\n",
            "Epoch 2/10\n",
            "\u001b[1m413/413\u001b[0m \u001b[32m━━━━━━━━━━━━━━━━━━━━\u001b[0m\u001b[37m\u001b[0m \u001b[1m2s\u001b[0m 4ms/step - loss: 79.7569 - mae: 4.7477 - val_loss: 4.4015 - val_mae: 1.6772\n",
            "Epoch 3/10\n",
            "\u001b[1m413/413\u001b[0m \u001b[32m━━━━━━━━━━━━━━━━━━━━\u001b[0m\u001b[37m\u001b[0m \u001b[1m2s\u001b[0m 3ms/step - loss: 3.8371 - mae: 1.3759 - val_loss: 3.2475 - val_mae: 1.3587\n",
            "Epoch 4/10\n",
            "\u001b[1m413/413\u001b[0m \u001b[32m━━━━━━━━━━━━━━━━━━━━\u001b[0m\u001b[37m\u001b[0m \u001b[1m1s\u001b[0m 3ms/step - loss: 11.6421 - mae: 2.2761 - val_loss: 29.0266 - val_mae: 3.9812\n",
            "Epoch 5/10\n",
            "\u001b[1m413/413\u001b[0m \u001b[32m━━━━━━━━━━━━━━━━━━━━\u001b[0m\u001b[37m\u001b[0m \u001b[1m1s\u001b[0m 2ms/step - loss: 9.1486 - mae: 1.5835 - val_loss: 1.5744 - val_mae: 0.8662\n",
            "Epoch 6/10\n",
            "\u001b[1m413/413\u001b[0m \u001b[32m━━━━━━━━━━━━━━━━━━━━\u001b[0m\u001b[37m\u001b[0m \u001b[1m1s\u001b[0m 3ms/step - loss: 2.8456 - mae: 1.1649 - val_loss: 0.8320 - val_mae: 0.7292\n",
            "Epoch 7/10\n",
            "\u001b[1m413/413\u001b[0m \u001b[32m━━━━━━━━━━━━━━━━━━━━\u001b[0m\u001b[37m\u001b[0m \u001b[1m1s\u001b[0m 3ms/step - loss: 8.4517 - mae: 1.2554 - val_loss: 1.0333 - val_mae: 0.7715\n",
            "Epoch 8/10\n",
            "\u001b[1m413/413\u001b[0m \u001b[32m━━━━━━━━━━━━━━━━━━━━\u001b[0m\u001b[37m\u001b[0m \u001b[1m1s\u001b[0m 2ms/step - loss: 4.7335 - mae: 1.4041 - val_loss: 1.3316 - val_mae: 0.8145\n",
            "Epoch 9/10\n",
            "\u001b[1m413/413\u001b[0m \u001b[32m━━━━━━━━━━━━━━━━━━━━\u001b[0m\u001b[37m\u001b[0m \u001b[1m1s\u001b[0m 2ms/step - loss: 5.5158 - mae: 1.0922 - val_loss: 147.8778 - val_mae: 9.9456\n",
            "Epoch 10/10\n",
            "\u001b[1m413/413\u001b[0m \u001b[32m━━━━━━━━━━━━━━━━━━━━\u001b[0m\u001b[37m\u001b[0m \u001b[1m1s\u001b[0m 2ms/step - loss: 13.6683 - mae: 1.8638 - val_loss: 0.8675 - val_mae: 0.6756\n",
            "\u001b[1m129/129\u001b[0m \u001b[32m━━━━━━━━━━━━━━━━━━━━\u001b[0m\u001b[37m\u001b[0m \u001b[1m0s\u001b[0m 2ms/step - loss: 0.8338 - mae: 0.6808\n",
            "Mean absulute Error: 0.6754376292228699\n"
          ]
        }
      ]
    }
  ]
}